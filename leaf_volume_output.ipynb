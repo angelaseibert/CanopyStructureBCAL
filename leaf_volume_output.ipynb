{
 "cells": [
  {
   "cell_type": "markdown",
   "id": "ea15dae4",
   "metadata": {},
   "source": [
    "# Load libraries "
   ]
  },
  {
   "cell_type": "code",
   "execution_count": 4,
   "id": "81b857bf",
   "metadata": {},
   "outputs": [],
   "source": [
    "import os\n",
    "import numpy as np\n",
    "import pandas as pd\n",
    "from Leaf_Volume import LeafVolume\n",
    "from Leaf_Volume import generate_df"
   ]
  },
  {
   "cell_type": "markdown",
   "id": "d0ad5e47",
   "metadata": {},
   "source": [
    "# Specify input and output folders "
   ]
  },
  {
   "cell_type": "code",
   "execution_count": 5,
   "id": "f1a6a06a",
   "metadata": {},
   "outputs": [],
   "source": [
    "# input_folder =  \"C:\\\\Users\\\\ANGELASEIBERT\\\\Desktop\\\\Python_Workspace\\\\\"\n",
    "input_folder =  \"C:\\\\Users\\\\ANGELASEIBERT\\\\Desktop\\\\Python_Workspace\\\\test_input\\\\\"\n",
    "file_extension = \".pcd\"\n",
    "output_folder =  \"C:\\\\Users\\\\ANGELASEIBERT\\\\Desktop\\\\Python_Workspace\\\\canopy_volumes_out\\\\\""
   ]
  },
  {
   "cell_type": "code",
   "execution_count": 6,
   "id": "2beec790",
   "metadata": {},
   "outputs": [],
   "source": [
    "files_list = []\n",
    "canopy_volumes_list = []\n",
    "\n",
    "for file in os.listdir(input_folder):\n",
    "    if file.endswith(file_extension):\n",
    "        files_list.append(file)\n",
    "        whole_path = input_folder+file\n",
    "        \n",
    "        leaf_vols = LeafVolume(whole_path, visualize = False)\n",
    "\n",
    "        for all_slices in leaf_vols:\n",
    "            np.sum(all_slices)\n",
    "\n",
    "    canopy_volumes_list.append(all_slices)\n",
    "\n",
    "canopy_vols_df = generate_df(files_list, canopy_volumes_list)\n",
    "\n",
    "if not os.path.isdir(output_folder):\n",
    "    os.mkdir(output_folder)\n",
    "    \n",
    "canopy_vols_df.to_csv(output_folder+'canopyvolumes_test2.csv', index = False)"
   ]
  }
 ],
 "metadata": {
  "kernelspec": {
   "display_name": "Python 3 (ipykernel)",
   "language": "python",
   "name": "python3"
  },
  "language_info": {
   "codemirror_mode": {
    "name": "ipython",
    "version": 3
   },
   "file_extension": ".py",
   "mimetype": "text/x-python",
   "name": "python",
   "nbconvert_exporter": "python",
   "pygments_lexer": "ipython3",
   "version": "3.9.12"
  }
 },
 "nbformat": 4,
 "nbformat_minor": 5
}
